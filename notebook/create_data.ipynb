{
 "cells": [
  {
   "cell_type": "markdown",
   "metadata": {},
   "source": [
    "# ライブラリ"
   ]
  },
  {
   "cell_type": "code",
   "execution_count": 1,
   "metadata": {},
   "outputs": [],
   "source": [
    "import pandas as pd\n",
    "import matplotlib.pyplot as plt\n",
    "import matplotlib.dates as mdates\n",
    "# import japanize_matplotlib\n",
    "import seaborn as sns\n",
    "\n",
    "\n",
    "from function import create_data"
   ]
  },
  {
   "cell_type": "markdown",
   "metadata": {},
   "source": [
    "# データ読みこみ"
   ]
  },
  {
   "cell_type": "code",
   "execution_count": 2,
   "metadata": {},
   "outputs": [],
   "source": [
    "category_names_csv = '../original_data/category_names.csv'\n",
    "item_categories_csv = '../original_data/item_categories.csv'\n",
    "sales_history1_csv = '../original_data/sales_history1.csv'\n",
    "sales_history2_csv = '../original_data/sales_history2.csv'"
   ]
  },
  {
   "cell_type": "markdown",
   "metadata": {},
   "source": [
    "# DataFrame作成"
   ]
  },
  {
   "cell_type": "markdown",
   "metadata": {},
   "source": [
    "## Category_name作成"
   ]
  },
  {
   "cell_type": "code",
   "execution_count": 3,
   "metadata": {},
   "outputs": [],
   "source": [
    "df_category_name = pd.read_csv(category_names_csv, encoding='shift_jis')"
   ]
  },
  {
   "cell_type": "markdown",
   "metadata": {},
   "source": [
    "- 『商品カテゴリ名』=> 『商品カテゴリ』『商品名』に変換"
   ]
  },
  {
   "cell_type": "code",
   "execution_count": 4,
   "metadata": {},
   "outputs": [],
   "source": [
    "df_category_name = create_data.split_column_by_delimiter(df_category_name, '商品カテゴリ名', '-', ['商品カテゴリ', '商品名'])"
   ]
  },
  {
   "cell_type": "markdown",
   "metadata": {},
   "source": [
    "- 商品カテゴリでグループ分け"
   ]
  },
  {
   "cell_type": "code",
   "execution_count": 5,
   "metadata": {},
   "outputs": [
    {
     "name": "stdout",
     "output_type": "stream",
     "text": [
      "商品カテゴリ\n",
      "PCゲーム                                                  [通常版]\n",
      "PCソフト                                                [PCソフト]\n",
      "ギフト        [小型ゲーム, カード、パズル等, フィギュア, ぬいぐるみ, ボードゲーム, ガジェット類...\n",
      "ゲーム                         [ゲーム機C, ゲーム機B, ゲーム機A, 付属品(購入特典)]\n",
      "ゲーム周辺機器                                       [ゲーム機B, ゲーム機A]\n",
      "映画                              [DVD, ブルーレイ, ブルーレイ3D, セット商品]\n",
      "本                        [オーディオブック_タイプA, 教育用, オーディオブック_タイプB]\n",
      "音楽                                           [その他, CD, レコード]\n",
      "Name: 商品名, dtype: object\n"
     ]
    }
   ],
   "source": [
    "# 商品カテゴリ列が同じものの中で、商品名列のユニーク値を確認する\n",
    "result = create_data.check_unique_values(df_category_name, '商品カテゴリ', '商品名')\n",
    "print(result)"
   ]
  },
  {
   "cell_type": "markdown",
   "metadata": {},
   "source": [
    "## Item_categories作成"
   ]
  },
  {
   "cell_type": "code",
   "execution_count": 6,
   "metadata": {},
   "outputs": [],
   "source": [
    "item_categories = pd.read_csv(item_categories_csv, encoding='shift_jis')"
   ]
  },
  {
   "cell_type": "markdown",
   "metadata": {},
   "source": [
    "## Sales_history作成"
   ]
  },
  {
   "cell_type": "code",
   "execution_count": 7,
   "metadata": {},
   "outputs": [],
   "source": [
    "df_sales_history1 = pd.read_csv(sales_history1_csv, encoding='shift_jis')\n",
    "df_sales_history2 = pd.read_csv(sales_history2_csv, encoding='shift_jis')"
   ]
  },
  {
   "cell_type": "markdown",
   "metadata": {},
   "source": [
    "- 合成"
   ]
  },
  {
   "cell_type": "code",
   "execution_count": 8,
   "metadata": {},
   "outputs": [],
   "source": [
    "# カラム名は等しいので、縦に結合+index初期化\n",
    "df_sales_history = pd.concat([df_sales_history1, df_sales_history2], ignore_index=True)\n",
    "df_sales_history.sort_values(by='日付', inplace=True)\n",
    "df_sales_history.reset_index(drop=True, inplace=True)\n",
    "\n",
    "df_sales_history['売上'] = df_sales_history['商品価格'] * df_sales_history['売上個数']"
   ]
  },
  {
   "cell_type": "markdown",
   "metadata": {},
   "source": [
    "- 出力"
   ]
  },
  {
   "cell_type": "code",
   "execution_count": 9,
   "metadata": {},
   "outputs": [],
   "source": [
    "df_sales_history.to_csv('../processing_data/sales_history.csv', index=False, encoding='shift_jis')"
   ]
  },
  {
   "cell_type": "markdown",
   "metadata": {},
   "source": [
    "# データ結合"
   ]
  },
  {
   "cell_type": "markdown",
   "metadata": {},
   "source": [
    "category_names + item_categories + sales_history<br>\n",
    "主キーは、商品カテゴリ"
   ]
  },
  {
   "cell_type": "markdown",
   "metadata": {},
   "source": [
    "- category_names + item_categories"
   ]
  },
  {
   "cell_type": "code",
   "execution_count": 10,
   "metadata": {},
   "outputs": [],
   "source": [
    "# '商品カテゴリID'でマージする\n",
    "df_temp = pd.merge(item_categories, df_category_name, on='商品カテゴリID', how='inner')"
   ]
  },
  {
   "cell_type": "markdown",
   "metadata": {},
   "source": [
    "- + sales_history"
   ]
  },
  {
   "cell_type": "code",
   "execution_count": 11,
   "metadata": {},
   "outputs": [],
   "source": [
    "merged_df = pd.merge(df_sales_history, df_temp, on='商品ID', how='inner')"
   ]
  },
  {
   "cell_type": "markdown",
   "metadata": {},
   "source": [
    "- ソート"
   ]
  },
  {
   "cell_type": "code",
   "execution_count": 12,
   "metadata": {},
   "outputs": [],
   "source": [
    "merged_df.sort_values(by='日付', inplace=True)\n",
    "merged_df.reset_index(drop=True, inplace=True)"
   ]
  },
  {
   "cell_type": "markdown",
   "metadata": {},
   "source": [
    "- 出力"
   ]
  },
  {
   "cell_type": "code",
   "execution_count": 13,
   "metadata": {},
   "outputs": [],
   "source": [
    "merged_df.to_csv('../processing_data/merged.csv', encoding='shift_jis', index=False)"
   ]
  }
 ],
 "metadata": {
  "kernelspec": {
   "display_name": "Python 3",
   "language": "python",
   "name": "python3"
  },
  "language_info": {
   "codemirror_mode": {
    "name": "ipython",
    "version": 3
   },
   "file_extension": ".py",
   "mimetype": "text/x-python",
   "name": "python",
   "nbconvert_exporter": "python",
   "pygments_lexer": "ipython3",
   "version": "3.10.12"
  }
 },
 "nbformat": 4,
 "nbformat_minor": 2
}
