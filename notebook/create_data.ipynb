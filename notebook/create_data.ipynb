{
 "cells": [
  {
   "cell_type": "markdown",
   "metadata": {},
   "source": [
    "# ライブラリ"
   ]
  },
  {
   "cell_type": "code",
   "execution_count": 1,
   "metadata": {},
   "outputs": [],
   "source": [
    "import pandas as pd\n",
    "import matplotlib.pyplot as plt\n",
    "import matplotlib.dates as mdates\n",
    "# import japanize_matplotlib\n",
    "import seaborn as sns\n",
    "\n",
    "\n",
    "from function import create_data"
   ]
  },
  {
   "cell_type": "markdown",
   "metadata": {},
   "source": [
    "# データ読みこみ"
   ]
  },
  {
   "cell_type": "code",
   "execution_count": 2,
   "metadata": {},
   "outputs": [],
   "source": [
    "category_names_csv = '../original_data/category_names.csv'\n",
    "item_categories_csv = '../original_data/item_categories.csv'\n",
    "sales_history1_csv = '../original_data/sales_history1.csv'\n",
    "sales_history2_csv = '../original_data/sales_history2.csv'"
   ]
  },
  {
   "cell_type": "markdown",
   "metadata": {},
   "source": [
    "# DataFrame作成"
   ]
  },
  {
   "cell_type": "markdown",
   "metadata": {},
   "source": [
    "## Category_name作成"
   ]
  },
  {
   "cell_type": "code",
   "execution_count": 3,
   "metadata": {},
   "outputs": [],
   "source": [
    "df_category_name = pd.read_csv(category_names_csv, encoding='shift_jis')"
   ]
  },
  {
   "cell_type": "markdown",
   "metadata": {},
   "source": [
    "- 『商品カテゴリ名』=> 『商品カテゴリ』『商品名』に変換"
   ]
  },
  {
   "cell_type": "code",
   "execution_count": 4,
   "metadata": {},
   "outputs": [],
   "source": [
    "df_category_name = create_data.split_column_by_delimiter(df_category_name, '商品カテゴリ名', '-', ['商品カテゴリ', '商品名'])"
   ]
  },
  {
   "cell_type": "markdown",
   "metadata": {},
   "source": [
    "- 商品カテゴリでグループ分け"
   ]
  },
  {
   "cell_type": "code",
   "execution_count": 5,
   "metadata": {},
   "outputs": [
    {
     "name": "stdout",
     "output_type": "stream",
     "text": [
      "商品カテゴリ\n",
      "PCゲーム                                                  [通常版]\n",
      "PCソフト                                                [PCソフト]\n",
      "ギフト        [小型ゲーム, カード、パズル等, フィギュア, ぬいぐるみ, ボードゲーム, ガジェット類...\n",
      "ゲーム                         [ゲーム機C, ゲーム機B, ゲーム機A, 付属品(購入特典)]\n",
      "ゲーム周辺機器                                       [ゲーム機B, ゲーム機A]\n",
      "映画                              [DVD, ブルーレイ, ブルーレイ3D, セット商品]\n",
      "本                        [オーディオブック_タイプA, 教育用, オーディオブック_タイプB]\n",
      "音楽                                           [その他, CD, レコード]\n",
      "Name: 商品名, dtype: object\n"
     ]
    }
   ],
   "source": [
    "# 商品カテゴリ列が同じものの中で、商品名列のユニーク値を確認する\n",
    "result = create_data.check_unique_values(df_category_name, '商品カテゴリ', '商品名')\n",
    "print(result)"
   ]
  },
  {
   "cell_type": "markdown",
   "metadata": {},
   "source": [
    "## Item_categories作成"
   ]
  },
  {
   "cell_type": "code",
   "execution_count": 6,
   "metadata": {},
   "outputs": [],
   "source": [
    "item_categories = pd.read_csv(item_categories_csv, encoding='shift_jis')"
   ]
  },
  {
   "cell_type": "markdown",
   "metadata": {},
   "source": [
    "## Sales_history作成"
   ]
  },
  {
   "cell_type": "code",
   "execution_count": 7,
   "metadata": {},
   "outputs": [],
   "source": [
    "df_sales_history1 = pd.read_csv(sales_history1_csv, encoding='shift_jis')\n",
    "df_sales_history2 = pd.read_csv(sales_history2_csv, encoding='shift_jis')"
   ]
  },
  {
   "cell_type": "markdown",
   "metadata": {},
   "source": [
    "- 合成"
   ]
  },
  {
   "cell_type": "code",
   "execution_count": 8,
   "metadata": {},
   "outputs": [],
   "source": [
    "# カラム名は等しいので、縦に結合+index初期化\n",
    "df_sales_history = pd.concat([df_sales_history1, df_sales_history2], ignore_index=True)\n",
    "df_sales_history.sort_values(by='日付', inplace=True)\n",
    "df_sales_history.reset_index(drop=True, inplace=True)\n",
    "\n",
    "df_sales_history['売上'] = df_sales_history['商品価格'] * df_sales_history['売上個数']"
   ]
  },
  {
   "cell_type": "markdown",
   "metadata": {},
   "source": [
    "- 出力"
   ]
  },
  {
   "cell_type": "code",
   "execution_count": 9,
   "metadata": {},
   "outputs": [],
   "source": [
    "df_sales_history.to_csv('../processing_data/sales_history.csv', index=False, encoding='shift_jis')"
   ]
  },
  {
   "cell_type": "markdown",
   "metadata": {},
   "source": [
    "# データ結合"
   ]
  },
  {
   "cell_type": "markdown",
   "metadata": {},
   "source": [
    "category_names + item_categories + sales_history<br>\n",
    "主キーは、商品カテゴリ"
   ]
  },
  {
   "cell_type": "markdown",
   "metadata": {},
   "source": [
    "- category_names + item_categories"
   ]
  },
  {
   "cell_type": "code",
   "execution_count": 10,
   "metadata": {},
   "outputs": [],
   "source": [
    "# '商品カテゴリID'でマージする\n",
    "df_temp = pd.merge(item_categories, df_category_name, on='商品カテゴリID', how='inner')"
   ]
  },
  {
   "cell_type": "markdown",
   "metadata": {},
   "source": [
    "- + sales_history"
   ]
  },
  {
   "cell_type": "code",
   "execution_count": 11,
   "metadata": {},
   "outputs": [],
   "source": [
    "merged_df = pd.merge(df_sales_history, df_temp, on='商品ID', how='inner')"
   ]
  },
  {
   "cell_type": "markdown",
   "metadata": {},
   "source": [
    "- ソート"
   ]
  },
  {
   "cell_type": "code",
   "execution_count": 12,
   "metadata": {},
   "outputs": [],
   "source": [
    "merged_df.sort_values(by='日付', inplace=True)\n",
    "merged_df.reset_index(drop=True, inplace=True)"
   ]
  },
  {
   "cell_type": "markdown",
   "metadata": {},
   "source": [
    "- 曜日列作成"
   ]
  },
  {
   "cell_type": "code",
   "execution_count": 14,
   "metadata": {},
   "outputs": [],
   "source": [
    "# 日付列をdatetime型に変換\n",
    "merged_df['日付'] = pd.to_datetime(merged_df['日付'])\n",
    "\n",
    "# 日付から曜日列を作成\n",
    "merged_df['曜日'] = merged_df['日付'].dt.day_name()"
   ]
  },
  {
   "cell_type": "markdown",
   "metadata": {},
   "source": [
    "- 年月日列作成"
   ]
  },
  {
   "cell_type": "code",
   "execution_count": 15,
   "metadata": {},
   "outputs": [],
   "source": [
    "merged_df['年'] = merged_df['日付'].dt.year\n",
    "merged_df['月'] = merged_df['日付'].dt.month\n",
    "merged_df['日'] = merged_df['日付'].dt.day"
   ]
  },
  {
   "cell_type": "markdown",
   "metadata": {},
   "source": [
    "- 四半期列作成"
   ]
  },
  {
   "cell_type": "code",
   "execution_count": 16,
   "metadata": {},
   "outputs": [],
   "source": [
    "merged_df['四半期'] = merged_df['日付'].dt.quarter"
   ]
  },
  {
   "cell_type": "markdown",
   "metadata": {},
   "source": [
    "- 週の列作成"
   ]
  },
  {
   "cell_type": "code",
   "execution_count": 17,
   "metadata": {},
   "outputs": [],
   "source": [
    "merged_df['週'] = merged_df['日付'].dt.isocalendar().week"
   ]
  },
  {
   "cell_type": "markdown",
   "metadata": {},
   "source": [
    "- 平日/休日の列作成"
   ]
  },
  {
   "cell_type": "code",
   "execution_count": 18,
   "metadata": {},
   "outputs": [],
   "source": [
    "merged_df['平日/休日'] = merged_df['日付'].dt.dayofweek // 5  # 0が平日、1が休日"
   ]
  },
  {
   "cell_type": "markdown",
   "metadata": {},
   "source": [
    "- 出力"
   ]
  },
  {
   "cell_type": "code",
   "execution_count": 19,
   "metadata": {},
   "outputs": [],
   "source": [
    "merged_df.to_csv('../processing_data/merged.csv', encoding='shift_jis', index=False)"
   ]
  },
  {
   "cell_type": "code",
   "execution_count": 20,
   "metadata": {},
   "outputs": [
    {
     "data": {
      "text/html": [
       "<div>\n",
       "<style scoped>\n",
       "    .dataframe tbody tr th:only-of-type {\n",
       "        vertical-align: middle;\n",
       "    }\n",
       "\n",
       "    .dataframe tbody tr th {\n",
       "        vertical-align: top;\n",
       "    }\n",
       "\n",
       "    .dataframe thead th {\n",
       "        text-align: right;\n",
       "    }\n",
       "</style>\n",
       "<table border=\"1\" class=\"dataframe\">\n",
       "  <thead>\n",
       "    <tr style=\"text-align: right;\">\n",
       "      <th></th>\n",
       "      <th>日付</th>\n",
       "      <th>店舗ID</th>\n",
       "      <th>商品ID</th>\n",
       "      <th>商品価格</th>\n",
       "      <th>売上個数</th>\n",
       "      <th>売上</th>\n",
       "      <th>商品カテゴリID</th>\n",
       "      <th>商品カテゴリ名</th>\n",
       "      <th>商品カテゴリ</th>\n",
       "      <th>商品名</th>\n",
       "      <th>曜日</th>\n",
       "      <th>年</th>\n",
       "      <th>月</th>\n",
       "      <th>日</th>\n",
       "      <th>四半期</th>\n",
       "      <th>週</th>\n",
       "      <th>平日/休日</th>\n",
       "    </tr>\n",
       "  </thead>\n",
       "  <tbody>\n",
       "    <tr>\n",
       "      <th>0</th>\n",
       "      <td>2018-01-01</td>\n",
       "      <td>6</td>\n",
       "      <td>1000001</td>\n",
       "      <td>420</td>\n",
       "      <td>1</td>\n",
       "      <td>420</td>\n",
       "      <td>100</td>\n",
       "      <td>映画 - DVD</td>\n",
       "      <td>映画</td>\n",
       "      <td>DVD</td>\n",
       "      <td>Monday</td>\n",
       "      <td>2018</td>\n",
       "      <td>1</td>\n",
       "      <td>1</td>\n",
       "      <td>1</td>\n",
       "      <td>1</td>\n",
       "      <td>0</td>\n",
       "    </tr>\n",
       "    <tr>\n",
       "      <th>1</th>\n",
       "      <td>2018-01-01</td>\n",
       "      <td>1</td>\n",
       "      <td>3100018</td>\n",
       "      <td>1950</td>\n",
       "      <td>1</td>\n",
       "      <td>1950</td>\n",
       "      <td>310</td>\n",
       "      <td>ゲーム - 付属品(購入特典)</td>\n",
       "      <td>ゲーム</td>\n",
       "      <td>付属品(購入特典)</td>\n",
       "      <td>Monday</td>\n",
       "      <td>2018</td>\n",
       "      <td>1</td>\n",
       "      <td>1</td>\n",
       "      <td>1</td>\n",
       "      <td>1</td>\n",
       "      <td>0</td>\n",
       "    </tr>\n",
       "    <tr>\n",
       "      <th>2</th>\n",
       "      <td>2018-01-01</td>\n",
       "      <td>7</td>\n",
       "      <td>2200016</td>\n",
       "      <td>510</td>\n",
       "      <td>1</td>\n",
       "      <td>510</td>\n",
       "      <td>220</td>\n",
       "      <td>ゲーム - ゲーム機A</td>\n",
       "      <td>ゲーム</td>\n",
       "      <td>ゲーム機A</td>\n",
       "      <td>Monday</td>\n",
       "      <td>2018</td>\n",
       "      <td>1</td>\n",
       "      <td>1</td>\n",
       "      <td>1</td>\n",
       "      <td>1</td>\n",
       "      <td>0</td>\n",
       "    </tr>\n",
       "    <tr>\n",
       "      <th>3</th>\n",
       "      <td>2018-01-01</td>\n",
       "      <td>10</td>\n",
       "      <td>2400001</td>\n",
       "      <td>2850</td>\n",
       "      <td>1</td>\n",
       "      <td>2850</td>\n",
       "      <td>240</td>\n",
       "      <td>ギフト - ボードゲーム</td>\n",
       "      <td>ギフト</td>\n",
       "      <td>ボードゲーム</td>\n",
       "      <td>Monday</td>\n",
       "      <td>2018</td>\n",
       "      <td>1</td>\n",
       "      <td>1</td>\n",
       "      <td>1</td>\n",
       "      <td>1</td>\n",
       "      <td>0</td>\n",
       "    </tr>\n",
       "    <tr>\n",
       "      <th>4</th>\n",
       "      <td>2018-01-01</td>\n",
       "      <td>15</td>\n",
       "      <td>1500067</td>\n",
       "      <td>3230</td>\n",
       "      <td>1</td>\n",
       "      <td>3230</td>\n",
       "      <td>150</td>\n",
       "      <td>ゲーム - ゲーム機B</td>\n",
       "      <td>ゲーム</td>\n",
       "      <td>ゲーム機B</td>\n",
       "      <td>Monday</td>\n",
       "      <td>2018</td>\n",
       "      <td>1</td>\n",
       "      <td>1</td>\n",
       "      <td>1</td>\n",
       "      <td>1</td>\n",
       "      <td>0</td>\n",
       "    </tr>\n",
       "    <tr>\n",
       "      <th>...</th>\n",
       "      <td>...</td>\n",
       "      <td>...</td>\n",
       "      <td>...</td>\n",
       "      <td>...</td>\n",
       "      <td>...</td>\n",
       "      <td>...</td>\n",
       "      <td>...</td>\n",
       "      <td>...</td>\n",
       "      <td>...</td>\n",
       "      <td>...</td>\n",
       "      <td>...</td>\n",
       "      <td>...</td>\n",
       "      <td>...</td>\n",
       "      <td>...</td>\n",
       "      <td>...</td>\n",
       "      <td>...</td>\n",
       "      <td>...</td>\n",
       "    </tr>\n",
       "    <tr>\n",
       "      <th>1119565</th>\n",
       "      <td>2019-10-31</td>\n",
       "      <td>7</td>\n",
       "      <td>1100443</td>\n",
       "      <td>1020</td>\n",
       "      <td>2</td>\n",
       "      <td>2040</td>\n",
       "      <td>110</td>\n",
       "      <td>PCゲーム - 通常版</td>\n",
       "      <td>PCゲーム</td>\n",
       "      <td>通常版</td>\n",
       "      <td>Thursday</td>\n",
       "      <td>2019</td>\n",
       "      <td>10</td>\n",
       "      <td>31</td>\n",
       "      <td>4</td>\n",
       "      <td>44</td>\n",
       "      <td>0</td>\n",
       "    </tr>\n",
       "    <tr>\n",
       "      <th>1119566</th>\n",
       "      <td>2019-10-31</td>\n",
       "      <td>7</td>\n",
       "      <td>1100443</td>\n",
       "      <td>1020</td>\n",
       "      <td>1</td>\n",
       "      <td>1020</td>\n",
       "      <td>110</td>\n",
       "      <td>PCゲーム - 通常版</td>\n",
       "      <td>PCゲーム</td>\n",
       "      <td>通常版</td>\n",
       "      <td>Thursday</td>\n",
       "      <td>2019</td>\n",
       "      <td>10</td>\n",
       "      <td>31</td>\n",
       "      <td>4</td>\n",
       "      <td>44</td>\n",
       "      <td>0</td>\n",
       "    </tr>\n",
       "    <tr>\n",
       "      <th>1119567</th>\n",
       "      <td>2019-10-31</td>\n",
       "      <td>8</td>\n",
       "      <td>1600060</td>\n",
       "      <td>1020</td>\n",
       "      <td>1</td>\n",
       "      <td>1020</td>\n",
       "      <td>160</td>\n",
       "      <td>ギフト - 小型ゲーム</td>\n",
       "      <td>ギフト</td>\n",
       "      <td>小型ゲーム</td>\n",
       "      <td>Thursday</td>\n",
       "      <td>2019</td>\n",
       "      <td>10</td>\n",
       "      <td>31</td>\n",
       "      <td>4</td>\n",
       "      <td>44</td>\n",
       "      <td>0</td>\n",
       "    </tr>\n",
       "    <tr>\n",
       "      <th>1119568</th>\n",
       "      <td>2019-10-31</td>\n",
       "      <td>3</td>\n",
       "      <td>1002540</td>\n",
       "      <td>680</td>\n",
       "      <td>1</td>\n",
       "      <td>680</td>\n",
       "      <td>100</td>\n",
       "      <td>映画 - DVD</td>\n",
       "      <td>映画</td>\n",
       "      <td>DVD</td>\n",
       "      <td>Thursday</td>\n",
       "      <td>2019</td>\n",
       "      <td>10</td>\n",
       "      <td>31</td>\n",
       "      <td>4</td>\n",
       "      <td>44</td>\n",
       "      <td>0</td>\n",
       "    </tr>\n",
       "    <tr>\n",
       "      <th>1119569</th>\n",
       "      <td>2019-10-31</td>\n",
       "      <td>7</td>\n",
       "      <td>1100450</td>\n",
       "      <td>1530</td>\n",
       "      <td>1</td>\n",
       "      <td>1530</td>\n",
       "      <td>110</td>\n",
       "      <td>PCゲーム - 通常版</td>\n",
       "      <td>PCゲーム</td>\n",
       "      <td>通常版</td>\n",
       "      <td>Thursday</td>\n",
       "      <td>2019</td>\n",
       "      <td>10</td>\n",
       "      <td>31</td>\n",
       "      <td>4</td>\n",
       "      <td>44</td>\n",
       "      <td>0</td>\n",
       "    </tr>\n",
       "  </tbody>\n",
       "</table>\n",
       "<p>1119570 rows × 17 columns</p>\n",
       "</div>"
      ],
      "text/plain": [
       "                日付  店舗ID     商品ID  商品価格  売上個数    売上  商品カテゴリID   \n",
       "0       2018-01-01     6  1000001   420     1   420       100  \\\n",
       "1       2018-01-01     1  3100018  1950     1  1950       310   \n",
       "2       2018-01-01     7  2200016   510     1   510       220   \n",
       "3       2018-01-01    10  2400001  2850     1  2850       240   \n",
       "4       2018-01-01    15  1500067  3230     1  3230       150   \n",
       "...            ...   ...      ...   ...   ...   ...       ...   \n",
       "1119565 2019-10-31     7  1100443  1020     2  2040       110   \n",
       "1119566 2019-10-31     7  1100443  1020     1  1020       110   \n",
       "1119567 2019-10-31     8  1600060  1020     1  1020       160   \n",
       "1119568 2019-10-31     3  1002540   680     1   680       100   \n",
       "1119569 2019-10-31     7  1100450  1530     1  1530       110   \n",
       "\n",
       "                 商品カテゴリ名 商品カテゴリ        商品名        曜日     年   月   日  四半期   週   \n",
       "0               映画 - DVD     映画        DVD    Monday  2018   1   1    1   1  \\\n",
       "1        ゲーム - 付属品(購入特典)    ゲーム  付属品(購入特典)    Monday  2018   1   1    1   1   \n",
       "2            ゲーム - ゲーム機A    ゲーム      ゲーム機A    Monday  2018   1   1    1   1   \n",
       "3           ギフト - ボードゲーム    ギフト     ボードゲーム    Monday  2018   1   1    1   1   \n",
       "4            ゲーム - ゲーム機B    ゲーム      ゲーム機B    Monday  2018   1   1    1   1   \n",
       "...                  ...    ...        ...       ...   ...  ..  ..  ...  ..   \n",
       "1119565      PCゲーム - 通常版  PCゲーム        通常版  Thursday  2019  10  31    4  44   \n",
       "1119566      PCゲーム - 通常版  PCゲーム        通常版  Thursday  2019  10  31    4  44   \n",
       "1119567      ギフト - 小型ゲーム    ギフト      小型ゲーム  Thursday  2019  10  31    4  44   \n",
       "1119568         映画 - DVD     映画        DVD  Thursday  2019  10  31    4  44   \n",
       "1119569      PCゲーム - 通常版  PCゲーム        通常版  Thursday  2019  10  31    4  44   \n",
       "\n",
       "         平日/休日  \n",
       "0            0  \n",
       "1            0  \n",
       "2            0  \n",
       "3            0  \n",
       "4            0  \n",
       "...        ...  \n",
       "1119565      0  \n",
       "1119566      0  \n",
       "1119567      0  \n",
       "1119568      0  \n",
       "1119569      0  \n",
       "\n",
       "[1119570 rows x 17 columns]"
      ]
     },
     "execution_count": 20,
     "metadata": {},
     "output_type": "execute_result"
    }
   ],
   "source": [
    "merged_df"
   ]
  },
  {
   "cell_type": "code",
   "execution_count": null,
   "metadata": {},
   "outputs": [],
   "source": []
  }
 ],
 "metadata": {
  "kernelspec": {
   "display_name": "Python 3",
   "language": "python",
   "name": "python3"
  },
  "language_info": {
   "codemirror_mode": {
    "name": "ipython",
    "version": 3
   },
   "file_extension": ".py",
   "mimetype": "text/x-python",
   "name": "python",
   "nbconvert_exporter": "python",
   "pygments_lexer": "ipython3",
   "version": "3.10.11"
  }
 },
 "nbformat": 4,
 "nbformat_minor": 2
}
